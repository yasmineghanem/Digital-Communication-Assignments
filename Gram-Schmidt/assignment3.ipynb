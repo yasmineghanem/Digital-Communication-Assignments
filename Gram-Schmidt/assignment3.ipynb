{
 "cells": [
  {
   "cell_type": "code",
   "execution_count": 11,
   "metadata": {},
   "outputs": [],
   "source": [
    "import numpy as np\n",
    "import matplotlib.pyplot as plt\n"
   ]
  },
  {
   "cell_type": "code",
   "execution_count": 9,
   "metadata": {},
   "outputs": [
    {
     "name": "stdout",
     "output_type": "stream",
     "text": [
      "Signal s1: [1. 2. 3. 4. 5.]\n",
      "Signal s2: [2. 3. 4. 5. 6.]\n",
      "Phi1: [0.13483997 0.26967994 0.40451992 0.53935989 0.67419986]\n",
      "Phi2: [ 0.76277007  0.47673129  0.19069252 -0.09534626 -0.38138504]\n"
     ]
    }
   ],
   "source": [
    "def GM_Bases(s1,s2):\n",
    "    '''\n",
    "    The function calculates the Gram-Schmidt orthonormal bases functions (phi1 & phi 2) for two input signals (s1 & s2)\n",
    "    The inputs s1 and s2: are two 1×𝑁 vectors that represent the input signals\n",
    "    The outputs phi1 & phi2: are two 1×𝑁 vectors that represent the two orthonormal bases functions (using Gram-Schmidt). \n",
    "      If s1 & s2 have one basis function, then phi2 is 1×𝑁 zero vector\n",
    "'''\n",
    "    \n",
    "    #We set the first vector same as original & then normalize the rest on it\n",
    "\n",
    "    phi1 = s1 / np.linalg.norm(s1)  # Normalize s1 to get phi1\n",
    "    \n",
    "    v2 = s2 - np.dot(s2, phi1) * phi1  # Calculate the orthogonal component of s2 to phi1\n",
    "    if np.linalg.norm(v2) > 0:  # Check if v2 is non-zero\n",
    "        phi2 = v2 / np.linalg.norm(v2)  # Normalize v2 to get phi2\n",
    "    else:\n",
    "        phi2 = np.zeros_like(s2)  # phi2 is a zero vector if v2 is zero\n",
    "    \n",
    "    return phi1, phi2\n",
    "\n",
    "# Example usage\n",
    "s1 = np.array([1, 2, 3, 4, 5], dtype=float)\n",
    "s2 = np.array([2, 3, 4, 5, 6], dtype=float)\n",
    "\n",
    "phi1, phi2 = GM_Bases(s1, s2)\n",
    "\n",
    "print(\"Signal s1:\", s1)\n",
    "print(\"Signal s2:\", s2)\n",
    "print(\"Phi1:\", phi1)\n",
    "print(\"Phi2:\", phi2)\n",
    "    "
   ]
  },
  {
   "cell_type": "code",
   "execution_count": 10,
   "metadata": {},
   "outputs": [
    {
     "name": "stdout",
     "output_type": "stream",
     "text": [
      "Signal s: [1. 2. 3. 4. 5.]\n",
      "Phi1: [1. 0. 0. 0. 0.]\n",
      "Phi2: [0. 1. 0. 0. 0.]\n",
      "Projection onto Phi1: 1.0\n",
      "Projection onto Phi2: 2.0\n"
     ]
    }
   ],
   "source": [
    "def signal_space(s, phi1,phi2):\n",
    "    '''\n",
    "    o The function calculates the s1 space representation of input s1 s \n",
    "        over the orthonormal bases functions (phi1 & phi 2)\n",
    "    o The inputs s: is a 1×𝑁 vectors that represent the input s1\n",
    "    o The inputs phi1 & phi2: are two 1×𝑁 vectors that represent the two orthonormal bases functions .\n",
    "    o The output [v1,v2]: is the projections (i.e. the correlations) of s over phi1 and phi2 respectively.\n",
    "    '''\n",
    "    # Projection of s signal onto phi1 and phi2 is the dot product between the 2 signals\n",
    "    v1 = np.dot(s, phi1)  # Projection of s onto phi1\n",
    "    v2 = np.dot(s, phi2)  # Projection of s onto phi2\n",
    "    \n",
    "    return v1, v2\n",
    "\n",
    "# Verify\n",
    "s = np.array([1, 2, 3, 4, 5], dtype=float)\n",
    "phi1 = np.array([1, 0, 0, 0, 0], dtype=float)  # Example orthonormal basis function 1\n",
    "phi2 = np.array([0, 1, 0, 0, 0], dtype=float)  # Example orthonormal basis function 2\n",
    "\n",
    "v1, v2 = signal_space(s, phi1, phi2)\n",
    "\n",
    "print(\"Signal s:\", s)\n",
    "print(\"Phi1:\", phi1)\n",
    "print(\"Phi2:\", phi2)\n",
    "print(\"Projection onto Phi1:\", v1)\n",
    "print(\"Projection onto Phi2:\", v2)"
   ]
  },
  {
   "attachments": {},
   "cell_type": "markdown",
   "metadata": {},
   "source": [
    "r1(𝑡)=𝑠1(𝑡)+𝑤(𝑡); 𝑟2(𝑡)=𝑠2(𝑡)+𝑤(𝑡)\n",
    "\n",
    "𝑤(𝑡) is a zero mean AWGN with variance 𝜎2\n",
    "\n",
    "1. Use your “GM_Bases” function to get the bases functions of s1(t) & s2(t) Figure 1.1. Plot the obtained bases functions\n",
    "2. Use your “signal_space” function (along with the bases from 1) to get the signal space representation of s1(t) & s2(t) in Figure 1.1. Plot the signal space representation\n",
    "3. Generate samples of 𝑟1(𝑡) and 𝑟2(𝑡) using s1(t) & s2(t) in Figure 1.1 and random noise samples (for example 50 or 100 sample). Use your “signal_space” function (along with the bases from 1) to plot the signal points of the generated samples of 𝑟1(𝑡) and 𝑟2(𝑡) at Eσ2=−5 dB, 0 dB, 10 dB (each Eσ2 in a different figure), where 𝐸 is the energy of s1(t) or s2(t) (use “scatter” in Matlab)\n",
    "4. How does the noise affect the signal space? Does the noise effect increase or decrease with increasing 𝜎2?\n",
    "\n"
   ]
  },
  {
   "cell_type": "code",
   "execution_count": 29,
   "metadata": {},
   "outputs": [
    {
     "data": {
      "image/png": "[encoded data removed]",
      "text/plain": [
       "<Figure size 640x480 with 1 Axes>"
      ]
     },
     "metadata": {},
     "output_type": "display_data"
    }
   ],
   "source": [
    "#1. Use your “GM_Bases” function to get the bases functions of s1(t) & s2(t) Figure 1.1. Plot the obtained bases functions\n",
    "T = 1000\n",
    "A = 1\n",
    "signalTime = np.arange(0, T*1, 1)\n",
    "pulseHigh = np.full((T, 1), A)\n",
    "pulseLow = np.full((T, 1), -A)\n",
    "signal = np.ravel(np.concatenate((pulseHigh)))\n",
    "plt.plot(signalTime, signal)\n",
    "plt.show()"
   ]
  },
  {
   "cell_type": "code",
   "execution_count": null,
   "metadata": {},
   "outputs": [],
   "source": [
    "#2. Use your “signal_space” function (along with the bases from 1) to get the signal space representation\n",
    "#     of s1(t) & s2(t) in Figure 1.1. Plot the signal space representation\n"
   ]
  },
  {
   "cell_type": "code",
   "execution_count": null,
   "metadata": {},
   "outputs": [],
   "source": [
    "#3. Generate samples of 𝑟1(𝑡) and 𝑟2(𝑡) using s1(t) & s2(t) in Figure 1.1 and random noise samples\n",
    "#   (for example 50 or 100 sample). Use your “signal_space” function (along with the bases from 1) \n",
    "#       to plot the signal points of the generated samples of 𝑟1(𝑡) and 𝑟2(𝑡) at Eσ2=−5 dB, 0 dB, 10 dB \n",
    "#           (each Eσ2 in a different figure), where 𝐸 is the energy of s1(t) or s2(t) (use “scatter” in Matlab)\n"
   ]
  },
  {
   "cell_type": "code",
   "execution_count": null,
   "metadata": {},
   "outputs": [],
   "source": [
    "''' \n",
    "4. How does the noise affect the signal space? Does the noise effect increase or decrease with increasing 𝜎2?\n",
    "\n",
    "ANSWER:\n",
    "\n",
    "'''\n"
   ]
  }
 ],
 "metadata": {
  "kernelspec": {
   "display_name": "Python 3",
   "language": "python",
   "name": "python3"
  },
  "language_info": {
   "codemirror_mode": {
    "name": "ipython",
    "version": 3
   },
   "file_extension": ".py",
   "mimetype": "text/x-python",
   "name": "python",
   "nbconvert_exporter": "python",
   "pygments_lexer": "ipython3",
   "version": "3.11.3"
  },
  "orig_nbformat": 4
 },
 "nbformat": 4,
 "nbformat_minor": 2
}
